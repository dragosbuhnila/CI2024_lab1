{
 "cells": [
  {
   "cell_type": "markdown",
   "metadata": {},
   "source": [
    "Copyright **`(c)`** 2024 Giovanni Squillero `<giovanni.squillero@polito.it>`  \n",
    "[`https://github.com/squillero/computational-intelligence`](https://github.com/squillero/computational-intelligence)  \n",
    "Free for personal or classroom use; see [`LICENSE.md`](https://github.com/squillero/computational-intelligence/blob/master/LICENSE.md) for details.  "
   ]
  },
  {
   "cell_type": "code",
   "execution_count": 103,
   "metadata": {},
   "outputs": [],
   "source": [
    "from random import random, seed\n",
    "from itertools import accumulate\n",
    "import numpy as np\n",
    "from matplotlib import pyplot as plt\n",
    "from matplotlib.ticker import ScalarFormatter\n",
    "from collections import deque\n",
    "\n",
    "from icecream import ic\n",
    "\n",
    "np.set_printoptions(linewidth=200)"
   ]
  },
  {
   "cell_type": "markdown",
   "metadata": {},
   "source": [
    "# Credits  \n",
    "\n",
    "The following program was written individually. Some functions are taken from the solution the professor showcased in class during the 3 hours dedicated to this first lab."
   ]
  },
  {
   "cell_type": "markdown",
   "metadata": {},
   "source": [
    "# Helper Functions"
   ]
  },
  {
   "cell_type": "code",
   "execution_count": 104,
   "metadata": {},
   "outputs": [],
   "source": [
    "def valid(solution: np.ndarray) -> bool:\n",
    "    \"\"\"Checks wether solution is valid (ie. covers all universe)\"\"\"\n",
    "    return np.all(np.logical_or.reduce(SETS[solution]))\n",
    "\n",
    "\n",
    "def cost(solution: np.ndarray) -> float:\n",
    "    \"\"\"Returns the cost of a solution (to be minimized)\"\"\"\n",
    "    return COSTS[solution].sum()\n",
    "\n",
    "def fitness(solution: np.ndarray) -> float:\n",
    "    \"\"\"Returns the fitness of a solution as just the negative of cost\"\"\"\n",
    "    return (valid(solution), -cost(solution))\n",
    "\n",
    "def tweak__single(solution: np.ndarray, my_rng) -> np.ndarray:\n",
    "    new_sol = solution.copy()\n",
    "    i = my_rng.integers(NUM_SETS)\n",
    "    new_sol[i] = not new_sol[i]\n",
    "    return new_sol\n",
    "\n",
    "def tweak__single_or_double(solution: np.ndarray, mutation_prob: float, my_rng) -> np.ndarray:\n",
    "    new_sol = solution.copy()\n",
    "    i = my_rng.integers(NUM_SETS)\n",
    "    new_sol[i] = not new_sol[i]\n",
    "    \n",
    "    if my_rng.random() < mutation_prob:\n",
    "        j = my_rng.integers(NUM_SETS)\n",
    "        new_sol[j] = not new_sol[j]\n",
    "    \n",
    "    return new_sol\n",
    "    \n",
    "def tweak__multiple(solution: np.ndarray, strength: float, my_rng) -> np.ndarray:\n",
    "    mask = my_rng.random(NUM_SETS) < strength\n",
    "    if not np.any(mask):\n",
    "        mask[np.random.randint(NUM_SETS)] = True\n",
    "\n",
    "    new_sol = np.logical_xor(solution, mask)\n",
    "    return new_sol"
   ]
  },
  {
   "cell_type": "markdown",
   "metadata": {},
   "source": [
    "# Hill Climbers"
   ]
  },
  {
   "cell_type": "markdown",
   "metadata": {},
   "source": [
    "#### Simulated Annealing"
   ]
  },
  {
   "cell_type": "code",
   "execution_count": 105,
   "metadata": {},
   "outputs": [],
   "source": [
    "def simulated_annealing(my_starting_solution: np.ndarray, my_rng, instance) -> float:\n",
    "    \"\"\" Simulated Annealing algorithm for the Set Covering Problem\n",
    "        It uses a single-bit-flip tweak, constant temperature set at \"\"\"\n",
    "    # 1) Computing the solution using constant temperature\n",
    "    solution = my_starting_solution\n",
    "    best_solution_ever = solution  # This is needed because we allow for worse solutions to be accepted\n",
    "    cur_fitness = fitness(solution)\n",
    "    initial_fitness = cur_fitness\n",
    "    history = [cur_fitness]\n",
    "    ps = []\n",
    "    difs = []\n",
    "\n",
    "    temperature = np.exp(np.log(UNIVERSE_SIZE) / 16)\n",
    "\n",
    "    for steps in range(10_000):\n",
    "        new_solution = tweak__single_or_double(solution, 0.3, my_rng)\n",
    "        new_fitness = fitness(new_solution)\n",
    "        history.append(new_fitness)\n",
    "\n",
    "        if new_fitness > cur_fitness:\n",
    "            solution = new_solution\n",
    "            cur_fitness = new_fitness\n",
    "        elif new_fitness == cur_fitness:\n",
    "            continue\n",
    "        else:\n",
    "            p = np.exp(-(np.abs(cur_fitness[1] - new_fitness[1])) / temperature)\n",
    "            ps.append(p)\n",
    "            difs.append(np.abs(cur_fitness[1] - new_fitness[1]))\n",
    "\n",
    "            if my_rng.random() < p:\n",
    "                solution = new_solution\n",
    "                cur_fitness = new_fitness\n",
    "\n",
    "        if cur_fitness > fitness(best_solution_ever):\n",
    "            best_solution_ever = solution\n",
    "\n",
    "    best_fitness_ever = fitness(best_solution_ever)\n",
    "\n",
    "    # 2) Plotting the solution exploration\n",
    "    plt.figure(figsize=(14, 8))\n",
    "    plt.title(f\"Simulated Annealing HC - constant temperature\\nInstance: UNIVERSE_SIZE={instance['UNIVERSE_SIZE']}, NUM_SETS={instance['NUM_SETS']}, DENSITY={instance['DENSITY']}\")\n",
    "\n",
    "    plt.plot(range(len(history)), list(accumulate([f[1] for f in history], max)), color=\"red\") # Plot only valid tweaks' fitness\n",
    "    _ = plt.scatter(range(len(history)), [f[1] for f in history], marker=\".\")  # Plot all tweak's fitness\n",
    "    plt.text(0.95, 0.05, f'Initial Fitness: {initial_fitness}', transform=plt.gca().transAxes, fontsize=12, verticalalignment='bottom', horizontalalignment='right')\n",
    "    plt.text(0.95, 0.10, f'Best Ever Fitness: {best_fitness_ever}', transform=plt.gca().transAxes, fontsize=12, verticalalignment='bottom', horizontalalignment='right')\n",
    "\n",
    "    plt.show()\n",
    "\n",
    "    return best_fitness_ever[1]"
   ]
  },
  {
   "cell_type": "markdown",
   "metadata": {},
   "source": [
    "#### Tabu"
   ]
  },
  {
   "cell_type": "code",
   "execution_count": 122,
   "metadata": {},
   "outputs": [],
   "source": [
    "def tabu(my_starting_solution: np.ndarray, my_rng, instance: dict, strength: float) -> float:\n",
    "    \"\"\" Computing the solution with more chance for double mutation \"\"\"\n",
    "    solution = my_starting_solution\n",
    "    cur_fitness = fitness(solution)\n",
    "    initial_fitness = cur_fitness\n",
    "    history = [cur_fitness[1]]\n",
    "\n",
    "    tabu = []\n",
    "\n",
    "    for _ in range(10_000):\n",
    "        for _ in range(100):\n",
    "            new_solution = tweak__single_or_double(solution, strength, my_rng)\n",
    "            new_fitness = fitness(new_solution)\n",
    "\n",
    "            if tuple(new_solution) in tabu:\n",
    "                continue\n",
    "            break\n",
    "\n",
    "        tabu.append(tuple(new_solution))\n",
    "        history.append(new_fitness[1])\n",
    "\n",
    "        if new_fitness > cur_fitness:\n",
    "            solution = new_solution\n",
    "            cur_fitness = new_fitness\n",
    "            ic(cur_fitness)\n",
    "\n",
    "    \"\"\" Plotting the solution exploration \"\"\"\n",
    "    plt.figure(figsize=(14, 8))\n",
    "\n",
    "    if strength < 0.001:\n",
    "        plt.title(f\"Single Tweak HC - UNIVERSE_SIZE={instance['UNIVERSE_SIZE']}, NUM_SETS={instance['NUM_SETS']}, DENSITY={instance['DENSITY']}\")\n",
    "    else:\n",
    "        plt.title(f\"Single/Double Tweak HC - {strength*100}% chance of double mutation: UNIVERSE_SIZE={instance['UNIVERSE_SIZE']}, NUM_SETS={instance['NUM_SETS']}, DENSITY={instance['DENSITY']}\")\n",
    "    \n",
    "    plt.plot(range(len(history)), list(accumulate(history, max)), color=\"red\")  # Growth-only Tweaks\n",
    "    _ = plt.scatter(range(len(history)), history, marker=\".\")  # All Tweaks\n",
    "\n",
    "    plt.text(0.95, 0.05, f'Initial Fitness: {initial_fitness}', transform=plt.gca().transAxes, fontsize=12, verticalalignment='bottom', horizontalalignment='right')\n",
    "    plt.text(0.95, 0.10, f'Current Fitness: {cur_fitness}', transform=plt.gca().transAxes, fontsize=12, verticalalignment='bottom', horizontalalignment='right')\n",
    "\n",
    "    return cur_fitness[1]"
   ]
  },
  {
   "cell_type": "markdown",
   "metadata": {},
   "source": [
    "# Helper Functions"
   ]
  },
  {
   "cell_type": "code",
   "execution_count": 112,
   "metadata": {},
   "outputs": [],
   "source": [
    "def valid(solution: np.ndarray) -> bool:\n",
    "    \"\"\"Checks wether solution is valid (ie. covers all universe)\"\"\"\n",
    "    return np.all(np.logical_or.reduce(SETS[solution]))\n",
    "\n",
    "\n",
    "def cost(solution: np.ndarray) -> float:\n",
    "    \"\"\"Returns the cost of a solution (to be minimized)\"\"\"\n",
    "    return COSTS[solution].sum()\n",
    "\n",
    "def fitness(solution: np.ndarray) -> float:\n",
    "    \"\"\"Returns the fitness of a solution as just the negative of cost\"\"\"\n",
    "    return (valid(solution), -cost(solution))\n",
    "\n",
    "def tweak__single(solution: np.ndarray, my_rng) -> np.ndarray:\n",
    "    new_sol = solution.copy()\n",
    "    i = my_rng.integers(NUM_SETS)\n",
    "    new_sol[i] = not new_sol[i]\n",
    "    return new_sol\n",
    "\n",
    "def tweak__single_or_double(solution: np.ndarray, mutation_prob: float, my_rng) -> np.ndarray:\n",
    "    new_sol = solution.copy()\n",
    "    i = my_rng.integers(NUM_SETS)\n",
    "    new_sol[i] = not new_sol[i]\n",
    "    \n",
    "    if my_rng.random() < mutation_prob:\n",
    "        j = my_rng.integers(NUM_SETS)\n",
    "        new_sol[j] = not new_sol[j]\n",
    "    \n",
    "    return new_sol\n",
    "    \n",
    "def tweak__multiple(solution: np.ndarray, strength: float, my_rng) -> np.ndarray:\n",
    "    mask = my_rng.random(NUM_SETS) < strength\n",
    "    if not np.any(mask):\n",
    "        mask[np.random.randint(NUM_SETS)] = True\n",
    "\n",
    "    new_sol = np.logical_xor(solution, mask)\n",
    "    return new_sol"
   ]
  },
  {
   "cell_type": "markdown",
   "metadata": {},
   "source": [
    "# Running All The Different Instances"
   ]
  },
  {
   "cell_type": "code",
   "execution_count": 125,
   "metadata": {},
   "outputs": [
    {
     "name": "stderr",
     "output_type": "stream",
     "text": [
      "ic| instance: {"
     ]
    },
    {
     "name": "stderr",
     "output_type": "stream",
     "text": [
      "'DENSITY': 0.2, 'NUM_SETS': 10, 'UNIVERSE_SIZE': 100}\n",
      "    valid(starting_solution): np.True_\n"
     ]
    },
    {
     "ename": "KeyboardInterrupt",
     "evalue": "",
     "output_type": "error",
     "traceback": [
      "\u001b[1;31m---------------------------------------------------------------------------\u001b[0m",
      "\u001b[1;31mKeyboardInterrupt\u001b[0m                         Traceback (most recent call last)",
      "Cell \u001b[1;32mIn[125], line 30\u001b[0m\n\u001b[0;32m     28\u001b[0m     starting_solution \u001b[38;5;241m=\u001b[39m rng\u001b[38;5;241m.\u001b[39mrandom(NUM_SETS) \u001b[38;5;241m<\u001b[39m \u001b[38;5;241m1.1\u001b[39m\n\u001b[0;32m     29\u001b[0m     ic(instance, valid(starting_solution))\n\u001b[1;32m---> 30\u001b[0m     fitnesses\u001b[38;5;241m.\u001b[39mappend(\u001b[43mtabu\u001b[49m\u001b[43m(\u001b[49m\u001b[43mstarting_solution\u001b[49m\u001b[43m,\u001b[49m\u001b[43m \u001b[49m\u001b[43mrng\u001b[49m\u001b[43m,\u001b[49m\u001b[43m \u001b[49m\u001b[43minstance\u001b[49m\u001b[43m,\u001b[49m\u001b[43m \u001b[49m\u001b[38;5;241;43m0.4\u001b[39;49m\u001b[43m)\u001b[49m)\n\u001b[0;32m     31\u001b[0m \u001b[38;5;28;01melse\u001b[39;00m:\n\u001b[0;32m     32\u001b[0m     fitnesses\u001b[38;5;241m.\u001b[39mappend(simulated_annealing(starting_solution, rng, instance))\n",
      "Cell \u001b[1;32mIn[122], line 13\u001b[0m, in \u001b[0;36mtabu\u001b[1;34m(my_starting_solution, my_rng, instance, strength)\u001b[0m\n\u001b[0;32m     11\u001b[0m \u001b[38;5;28;01mfor\u001b[39;00m _ \u001b[38;5;129;01min\u001b[39;00m \u001b[38;5;28mrange\u001b[39m(\u001b[38;5;241m100\u001b[39m):\n\u001b[0;32m     12\u001b[0m     new_solution \u001b[38;5;241m=\u001b[39m tweak__single_or_double(solution, strength, my_rng)\n\u001b[1;32m---> 13\u001b[0m     new_fitness \u001b[38;5;241m=\u001b[39m \u001b[43mfitness\u001b[49m\u001b[43m(\u001b[49m\u001b[43mnew_solution\u001b[49m\u001b[43m)\u001b[49m\n\u001b[0;32m     15\u001b[0m     \u001b[38;5;28;01mif\u001b[39;00m \u001b[38;5;28mtuple\u001b[39m(new_solution) \u001b[38;5;129;01min\u001b[39;00m tabu:\n\u001b[0;32m     16\u001b[0m         \u001b[38;5;28;01mcontinue\u001b[39;00m\n",
      "Cell \u001b[1;32mIn[112], line 12\u001b[0m, in \u001b[0;36mfitness\u001b[1;34m(solution)\u001b[0m\n\u001b[0;32m     10\u001b[0m \u001b[38;5;28;01mdef\u001b[39;00m \u001b[38;5;21mfitness\u001b[39m(solution: np\u001b[38;5;241m.\u001b[39mndarray) \u001b[38;5;241m-\u001b[39m\u001b[38;5;241m>\u001b[39m \u001b[38;5;28mfloat\u001b[39m:\n\u001b[0;32m     11\u001b[0m \u001b[38;5;250m    \u001b[39m\u001b[38;5;124;03m\"\"\"Returns the fitness of a solution as just the negative of cost\"\"\"\u001b[39;00m\n\u001b[1;32m---> 12\u001b[0m     \u001b[38;5;28;01mreturn\u001b[39;00m (\u001b[43mvalid\u001b[49m\u001b[43m(\u001b[49m\u001b[43msolution\u001b[49m\u001b[43m)\u001b[49m, \u001b[38;5;241m-\u001b[39mcost(solution))\n",
      "Cell \u001b[1;32mIn[112], line 3\u001b[0m, in \u001b[0;36mvalid\u001b[1;34m(solution)\u001b[0m\n\u001b[0;32m      1\u001b[0m \u001b[38;5;28;01mdef\u001b[39;00m \u001b[38;5;21mvalid\u001b[39m(solution: np\u001b[38;5;241m.\u001b[39mndarray) \u001b[38;5;241m-\u001b[39m\u001b[38;5;241m>\u001b[39m \u001b[38;5;28mbool\u001b[39m:\n\u001b[0;32m      2\u001b[0m \u001b[38;5;250m    \u001b[39m\u001b[38;5;124;03m\"\"\"Checks wether solution is valid (ie. covers all universe)\"\"\"\u001b[39;00m\n\u001b[1;32m----> 3\u001b[0m     \u001b[38;5;28;01mreturn\u001b[39;00m np\u001b[38;5;241m.\u001b[39mall(\u001b[43mnp\u001b[49m\u001b[38;5;241;43m.\u001b[39;49m\u001b[43mlogical_or\u001b[49m\u001b[38;5;241;43m.\u001b[39;49m\u001b[43mreduce\u001b[49m\u001b[43m(\u001b[49m\u001b[43mSETS\u001b[49m\u001b[43m[\u001b[49m\u001b[43msolution\u001b[49m\u001b[43m]\u001b[49m\u001b[43m)\u001b[49m)\n",
      "\u001b[1;31mKeyboardInterrupt\u001b[0m: "
     ]
    }
   ],
   "source": [
    "# Instance 1\n",
    "instances = [   {'UNIVERSE_SIZE': 100, 'NUM_SETS': 10, 'DENSITY': 0.2},\n",
    "                {'UNIVERSE_SIZE': 1_000, 'NUM_SETS': 100, 'DENSITY': 0.2},\n",
    "                {'UNIVERSE_SIZE': 10_000, 'NUM_SETS': 1_000, 'DENSITY': 0.2},\n",
    "                {'UNIVERSE_SIZE': 100_000, 'NUM_SETS': 10_000, 'DENSITY': 0.1},\n",
    "                {'UNIVERSE_SIZE': 100_000, 'NUM_SETS': 10_000, 'DENSITY': 0.2},\n",
    "                {'UNIVERSE_SIZE': 100_000, 'NUM_SETS': 10_000, 'DENSITY': 0.3}]\n",
    "\n",
    "fitnesses = []\n",
    "\n",
    "for (i, instance) in enumerate(instances):\n",
    "    UNIVERSE_SIZE = instance['UNIVERSE_SIZE']\n",
    "    NUM_SETS = instance['NUM_SETS']\n",
    "    DENSITY = instance['DENSITY']\n",
    "\n",
    "    rng = np.random.Generator(np.random.PCG64([UNIVERSE_SIZE, NUM_SETS, int(10_000 * DENSITY)]))\n",
    "    starting_solution = rng.random(NUM_SETS) < 0.9\n",
    "\n",
    "    # DON'T EDIT THESE LINES!\n",
    "\n",
    "    SETS = np.random.random((NUM_SETS, UNIVERSE_SIZE)) < DENSITY\n",
    "    for s in range(UNIVERSE_SIZE):\n",
    "        if not np.any(SETS[:, s]):\n",
    "            SETS[np.random.randint(NUM_SETS), s] = True\n",
    "    COSTS = np.pow(SETS.sum(axis=1), 1.1)\n",
    "\n",
    "    if i == 0:\n",
    "        starting_solution = rng.random(NUM_SETS) < 1.1\n",
    "        ic(instance, valid(starting_solution))\n",
    "        fitnesses.append(tabu(starting_solution, rng, instance, 0.4))\n",
    "    else:\n",
    "        fitnesses.append(simulated_annealing(starting_solution, rng, instance))"
   ]
  }
 ],
 "metadata": {
  "kernelspec": {
   "display_name": ".venv",
   "language": "python",
   "name": "python3"
  },
  "language_info": {
   "codemirror_mode": {
    "name": "ipython",
    "version": 3
   },
   "file_extension": ".py",
   "mimetype": "text/x-python",
   "name": "python",
   "nbconvert_exporter": "python",
   "pygments_lexer": "ipython3",
   "version": "3.12.6"
  }
 },
 "nbformat": 4,
 "nbformat_minor": 2
}
